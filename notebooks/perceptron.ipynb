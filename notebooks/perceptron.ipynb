{
 "cells": [
  {
   "cell_type": "code",
   "execution_count": null,
   "metadata": {
    "collapsed": false
   },
   "outputs": [],
   "source": [
    "%matplotlib inline\n",
    "from pylab import *\n",
    "import numpy as np\n",
    "\n",
    "# Define and show ideal border.\n",
    "w = np.array([1, -1])\n",
    "b = -0.2\n",
    "y1, y2 = 0, 1\n",
    "x1 = (-y1 * w[1] - b) / w[0]\n",
    "x2 = (-y2 * w[1] - b) / w[0]\n",
    "plot([x1, x2], [y1, y2], 'c-');\n",
    "\n",
    "# Generate and show points.\n",
    "n_samples = 50\n",
    "points = np.random.rand(2, n_samples)\n",
    "r_mask = np.dot(w, points) > -b\n",
    "b_mask = np.invert(r_mask)\n",
    "plot(points[0, r_mask], points[1, r_mask], 'ro'); \n",
    "plot(points[0, b_mask], points[1, b_mask], 'bo');\n",
    "\n",
    "axis([0, 1, 0, 1])\n",
    "show()"
   ]
  }
 ],
 "metadata": {
  "anaconda-cloud": {},
  "kernelspec": {
   "display_name": "Python [conda root]",
   "language": "python",
   "name": "conda-root-py"
  },
  "language_info": {
   "codemirror_mode": {
    "name": "ipython",
    "version": 3
   },
   "file_extension": ".py",
   "mimetype": "text/x-python",
   "name": "python",
   "nbconvert_exporter": "python",
   "pygments_lexer": "ipython3",
   "version": "3.5.2"
  }
 },
 "nbformat": 4,
 "nbformat_minor": 1
}
