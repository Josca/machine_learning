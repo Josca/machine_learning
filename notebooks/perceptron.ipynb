{
 "cells": [
  {
   "cell_type": "code",
   "execution_count": null,
   "metadata": {
    "collapsed": false
   },
   "outputs": [],
   "source": [
    "%matplotlib inline\n",
    "import time\n",
    "from pylab import *\n",
    "from IPython import display\n",
    "import numpy as np\n",
    "\n",
    "def weights_line(w: np.ndarray):\n",
    "    \"Return x1,y1,x2,y2 line for given perceptron weights.\"\n",
    "    \n",
    "    y1, y2 = 0, 1\n",
    "    x1 = (-y1 * w[1] - w[2]) / w[0]\n",
    "    x2 = (-y2 * w[1] - w[2]) / w[0]\n",
    "    return x1, y1, x2, y2\n",
    "\n",
    "def loss(w: np.ndarray, points: np.ndarray, classes: np.ndarray):\n",
    "    \"Get overall error for points and given perceptron weights.\"\n",
    "    \n",
    "    out = np.dot(w, points)\n",
    "    error1 = out[np.logical_and(out < 0, classes == 1)].sum()\n",
    "    error2 = out[np.logical_and(out > 0, classes == 0)].sum()\n",
    "    return np.abs(error1 + error2)\n",
    "\n",
    "fig = plt.figure()                         # Init plot figure.\n",
    "ax = plt.axes(xlim=(0, 1), ylim=(0, 1))    # Set plot axes.\n",
    "\n",
    "w_ideal = np.array([1, -1, -0.2])          # Define and draw ideal separating line.\n",
    "x1, y1, x2, y2 = weights_line(w_ideal)     # Get end-to-end line coordinates.\n",
    "ax.plot([x1, x2], [y1, y2], 'c-');         # Draw line.\n",
    "\n",
    "n_samples = 50                             # Set points count.\n",
    "points = np.random.rand(3, n_samples)      # Generate points.\n",
    "classes = np.zeros(n_samples)              # Init classes array.\n",
    "points[2,:] = 1                            # Set virtual x3 value of each point to 1 (input for bias weight).\n",
    "classes[np.dot(w_ideal, points) > 0] = 1   # Set positive classified points class to 1.\n",
    "ax.plot(points[0, classes == 1], points[1, classes == 1], 'ro');  # Draw positive points as red.\n",
    "ax.plot(points[0, classes == 0], points[1, classes == 0], 'bo');  # Draw negative points as blue.\n",
    "\n",
    "w = np.random.rand(3)                      # Init perceptron weights to random values.\n",
    "i_iter = 0                                 # Init iteration index.\n",
    "line, = ax.plot([], [])                    # Init perceptron plot line data.\n",
    "while True:                                # Train perceptron with loop.\n",
    "    i_point = i_iter % points.shape[1]     # Get next/first point index.\n",
    "    point = points[:, i_point];            # Get point to test and correct perceptron weights.\n",
    "    p = 1 if np.dot(w, point) > 0 else 0   # Get prediction for current point (1 for positive, 0 for negative).\n",
    "    c = classes[i_point] - p               # Get correction: 0 if class equals prediction.\n",
    "    w += c * point                         # Correct perceptron weights.                            \n",
    "    lss = loss(w, points, classes)         # Compute perceptron overall loss on points.\n",
    "    i_iter += 1                            # Increment iteration index.\n",
    "    if c != 0:                             # Update plot if perceptron changed.\n",
    "        x1, y1, x2, y2 = weights_line(w)   # Get perceptron line end-to-end coordinates.\n",
    "        line.set_data([x1, x2], [y1, y2]); # Update perceptron visualisation line data.\n",
    "        title('Loss: %.2f, iteration: %d' % (lss, i_iter)) # Display current loss and iteration number.\n",
    "        display.clear_output(wait=True)    # Redraw...\n",
    "        display.display(gcf())             # ...plot.\n",
    "        time.sleep(0.1)                    # Wait a moment to see a plot.\n",
    "    if lss == 0:                           # End if...\n",
    "        break                              # ...perceptron is trained."
   ]
  }
 ],
 "metadata": {
  "anaconda-cloud": {},
  "kernelspec": {
   "display_name": "Python [conda root]",
   "language": "python",
   "name": "conda-root-py"
  },
  "language_info": {
   "codemirror_mode": {
    "name": "ipython",
    "version": 3
   },
   "file_extension": ".py",
   "mimetype": "text/x-python",
   "name": "python",
   "nbconvert_exporter": "python",
   "pygments_lexer": "ipython3",
   "version": "3.5.2"
  }
 },
 "nbformat": 4,
 "nbformat_minor": 1
}
